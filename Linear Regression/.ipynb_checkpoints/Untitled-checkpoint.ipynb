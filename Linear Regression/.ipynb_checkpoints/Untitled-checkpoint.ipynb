{
 "cells": [
  {
   "cell_type": "code",
   "execution_count": 2,
   "id": "b0f0c454",
   "metadata": {},
   "outputs": [
    {
     "name": "stdout",
     "output_type": "stream",
     "text": [
      "https://raw.githubusercontent.com/ageron/handson-ml2/master/datasets/housing/housing.csv\n",
      "G://jupyter_notebook//Linear Regression//datasets//housing//\n",
      "G://jupyter_notebook//Linear Regression//datasets//housing//housing.csv\n"
     ]
    }
   ],
   "source": [
    "import os\n",
    "import requests\n",
    "\n",
    "def fetch_housing_data(download_root, housing_path):\n",
    "    print(download_root)\n",
    "    print(housing_path)\n",
    "    if not os.path.isdir(housing_path):\n",
    "        os.makedirs(housing_path)\n",
    "    csv_path = os.path.join(housing_path, \"housing.csv\")\n",
    "    print(csv_path)\n",
    "    aaaa = requests.get(download_root, csv_path, proxies=proxies)\n",
    "    with open(csv_path , 'wb') as f:\n",
    "        f.write(aaaa.content)\n",
    "\n",
    "if __name__ == '__main__' :\n",
    "    DOWNLOAD_ROOT = \"https://raw.githubusercontent.com/ageron/handson-ml2/master/datasets/housing/housing.csv\"\n",
    "    HOUSING_PATH = \"G://jupyter_notebook//Linear Regression//datasets//housing//\"\n",
    "    proxies = { \"http\": \"http://127.0.0.1:10809\",\n",
    "                \"https\": \"http://127.0.0.1:10809\"}\n",
    "    fetch_housing_data(DOWNLOAD_ROOT, HOUSING_PATH)"
   ]
  },
  {
   "cell_type": "code",
   "execution_count": null,
   "id": "515310a5",
   "metadata": {},
   "outputs": [],
   "source": []
  }
 ],
 "metadata": {
  "kernelspec": {
   "display_name": "Python 3",
   "language": "python",
   "name": "python3"
  },
  "language_info": {
   "codemirror_mode": {
    "name": "ipython",
    "version": 3
   },
   "file_extension": ".py",
   "mimetype": "text/x-python",
   "name": "python",
   "nbconvert_exporter": "python",
   "pygments_lexer": "ipython3",
   "version": "3.8.8"
  },
  "toc": {
   "base_numbering": 1,
   "nav_menu": {},
   "number_sections": true,
   "sideBar": true,
   "skip_h1_title": false,
   "title_cell": "Table of Contents",
   "title_sidebar": "Contents",
   "toc_cell": false,
   "toc_position": {},
   "toc_section_display": true,
   "toc_window_display": false
  }
 },
 "nbformat": 4,
 "nbformat_minor": 5
}
