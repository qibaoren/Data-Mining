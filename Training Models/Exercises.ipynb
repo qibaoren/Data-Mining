{
 "cells": [
  {
   "cell_type": "markdown",
   "id": "249ec335",
   "metadata": {},
   "source": [
    "# Which Linear Regression training algorithm can you use if you have a training set with millions of features? "
   ]
  },
  {
   "cell_type": "markdown",
   "id": "28779fa8",
   "metadata": {},
   "source": [
    "<font size=3>&ensp;&ensp;**use Stochastic Gradient Descent, Mini-batch Gradient Descent even Batch Gradient descent**</font>"
   ]
  },
  {
   "cell_type": "markdown",
   "id": "86a31c8d",
   "metadata": {},
   "source": [
    "# Suppose the features in your training set have very different scales.Which algorithms might suffer from this,and how?what can you do about it?"
   ]
  },
  {
   "cell_type": "markdown",
   "id": "3e3769b7",
   "metadata": {},
   "source": [
    "<font size=3>&ensp;&ensp;**Normal Equation or SVD approach will work just fine without scaling.To solve the problem that Gradient Descent algorithms will take a  long time to converge,we should scale the data before training the model.Moreover, regularized models may converge to a suboptimal solution if the features are not scaled:since regularization penalizes large weights, features with small values will tend to be ignored compared to the features with large values.**</font>"
   ]
  },
  {
   "cell_type": "markdown",
   "id": "6c61c16a",
   "metadata": {},
   "source": [
    "# Can Gradient Descent get stuck in a local minimum when training a Logistic Regression model?"
   ]
  },
  {
   "cell_type": "markdown",
   "id": "1a053e4c",
   "metadata": {},
   "source": [
    "<font size=3>&ensp;&ensp;**No,beacuse the cost function is convex.**</font>"
   ]
  },
  {
   "cell_type": "markdown",
   "id": "0fb9f144",
   "metadata": {},
   "source": [
    "# Do all Gradient Descent algorithms lead to the same model,provided you let them run long enough?"
   ]
  },
  {
   "cell_type": "markdown",
   "id": "ae40aadf",
   "metadata": {},
   "source": [
    "<font size=3>&ensp;&ensp;**If the optimization problem is convex(such as Linear Regression or Logistic Regression), and assuming the learning rate is not too high,then all Gradient Descent algorithms will approach the global optimum and end up producing fairly similar models.However, unless you gradually reducing learning rate, SGD and Mini-batch GD will never truly converge; instead, they will keep jumping back and forth around the global optimum.This means that even if you let them run for a very long time, these Gradient Descent algorithms will produce slightly different models.**</font>"
   ]
  },
  {
   "cell_type": "markdown",
   "id": "df13982b",
   "metadata": {},
   "source": [
    "# Suppose you use Batch Gradient Descent and you plot the validation error at every epoch.If you notice that the validation error consistently goes up,what is likely going on?How can you fix this?"
   ]
  },
  {
   "cell_type": "markdown",
   "id": "d5666cbc",
   "metadata": {},
   "source": [
    "<font size=3>&ensp;&ensp;**If the validation error consistently goes up after every epoch, then one possibility is that learning rate is too high and the algorithm is diverging.If the training error also goes up,then this is clearly the problem and you should reduce the learning rate.However, if the training error is not going up, then your model is overfitting the training set and you should stop training**</font>"
   ]
  },
  {
   "cell_type": "markdown",
   "id": "bd9949cb",
   "metadata": {},
   "source": [
    "# It is a good idea to stop Mini-batch Gradient Descent immediately when the validation error goes up?"
   ]
  },
  {
   "cell_type": "markdown",
   "id": "7f810ba4",
   "metadata": {},
   "source": [
    "<font size=3>&ensp;&ensp;**Due to their random nature, neither Stochastic Gradient Descent nor Mini-batch Gradient Descent is guaranteed to make progress at every single training iteration.So if you immediately stop training when the validation error goes up,you may stop much too early,before the optimum is reached. A better option is to save the model at regular intervals;then,when it has not improved for a long time(meaning it will probably never beat the record), you can revert to the best saved model.**</font>"
   ]
  },
  {
   "cell_type": "markdown",
   "id": "1a6d88cf",
   "metadata": {},
   "source": [
    "# Which Gradient Descent algorithm(among those we discussed)will reach the vicinity of the optimal solution the fastest?Which will actually converge?How can you make the others converge as well?"
   ]
  },
  {
   "cell_type": "markdown",
   "id": "3288dfd5",
   "metadata": {},
   "source": [
    "<font size=3>&ensp;&ensp;**Stochastic Gradient Descent has the fastest training iteration since it considers only one instance at a time,so it is generally the first to reach the vicinity of the global optimum(or Mini-batch GD with a very small minin-batch size).However, only Batch Gradient Descent will actually converge,given enough training time.As mentioned, Stochastic GD and Mini-batch GD will bounce around the optimun, unless you gradually reduce the learning rate.**</font>"
   ]
  },
  {
   "cell_type": "markdown",
   "id": "a26ce240",
   "metadata": {},
   "source": [
    "# Suppose you are using Polynomial Regression.You plot the learning curves and you notice that there is a large gap between the training error and the validation error.What is happening?What are three ways to solve this?"
   ]
  },
  {
   "cell_type": "markdown",
   "id": "bb9aeea5",
   "metadata": {},
   "source": [
    "<font size=3>&ensp;&ensp;**If the validation error is much higher than the training error, this is likely because your model is overfitting the training set.One way to try to fix this is to reduce the polynomial degree: a model with fewer degrees of freedom is likely to overfit. Another thing you can try is to regulaeize the model-for example, by adding an L2 penalty(Ridge) or an L1 penalty(Lasso) to the cost function.This will also reduce the degrees of freedom of the modle.Lastly, you can try to increase the size of training set.**</font>"
   ]
  },
  {
   "cell_type": "markdown",
   "id": "025d0045",
   "metadata": {},
   "source": [
    "# Suppose you are using Ridge Regression and you notice that the training error and the validation error are almost equal and fairly high.Would you say that the model suffers from high bias or high variance?Should you increase the regularization hyperparameter alpha or reduce it?"
   ]
  },
  {
   "cell_type": "markdown",
   "id": "c72307dc",
   "metadata": {},
   "source": [
    "<font size=3>&ensp;&ensp;**If both the training error and the validation error are almost equal and fairly high, the model is likely underfitting the training set,which means it has a high bias.You should try reducing the regularization hyperparameter alpha.**</font>"
   ]
  },
  {
   "cell_type": "markdown",
   "id": "36fff70f",
   "metadata": {},
   "source": [
    "# Why would you want to use?a.Ridge Regression instead of  plain Linear Regression(i.e.,without any regularization)?b.Lasso instead of Ridge Regression?c.Elastic Net instead of Lasso?"
   ]
  },
  {
   "cell_type": "markdown",
   "id": "f2f0b1f7",
   "metadata": {},
   "source": [
    "<font size=3>&ensp;&ensp;**a.A model with some regularization typically performs better than a model without any regularization, so you should generally prefer Ridge Regression over plain Linear Regression.**</font>"
   ]
  },
  {
   "cell_type": "markdown",
   "id": "12856a39",
   "metadata": {},
   "source": [
    "<font size=3>&ensp;&ensp;**b.Lasso Regresssion uses an L1 penalty,which tends to push the way down to exactly zero.This leads to sparse models, where all weights are zero except for the most important weights.This is a way to perform feature selection automatically,which is good if you suspect that only a few features actually matter. When you are not sure,you should perfer Ridge Regression.**</font>"
   ]
  },
  {
   "cell_type": "markdown",
   "id": "e25936df",
   "metadata": {},
   "source": [
    "<font size=3>&ensp;&ensp;**c.Elastic Net is generally preferred over Lasso since Lasso may behave erratically in some cases(when several features are strongly correlated or when there are more features than training sets).However, it does add an extra hyperparameter to tune.If you want Lasso without the erratic behavior,you can just use Elastic Net with an L1_ratio close to 1.**</font>"
   ]
  },
  {
   "cell_type": "markdown",
   "id": "e2bd2179",
   "metadata": {},
   "source": [
    "# Suppose you want to classify pictures as outdoor/indoor and daytime/nighttime.Should you implement two Logistic Regression classifiers or one Sofymax Regression classifier?"
   ]
  },
  {
   "cell_type": "markdown",
   "id": "daa90bb1",
   "metadata": {},
   "source": [
    "<font size=3>&ensp;&ensp;**Implement two Logistic Regression.**</font>"
   ]
  },
  {
   "cell_type": "markdown",
   "id": "9fd1b77e",
   "metadata": {},
   "source": [
    "# Implement Batch Gradient Descent with early stopping for Softmax Regression(without using Scikit-Learn)"
   ]
  },
  {
   "cell_type": "code",
   "execution_count": 2,
   "id": "f0ddf36b",
   "metadata": {
    "ExecuteTime": {
     "end_time": "2022-05-31T07:04:24.062147Z",
     "start_time": "2022-05-31T07:04:24.054181Z"
    }
   },
   "outputs": [],
   "source": [
    "from sklearn import datasets\n",
    "import numpy as np\n",
    "\n",
    "iris = datasets.load_iris()\n",
    "np.random.seed(2042)\n",
    "X = iris[\"data\"][:, (2, 3)]\n",
    "y = iris[\"target\"]\n",
    "X_with_bias = np.c_[np.ones([len(X), 1]), X]\n",
    "\n",
    "test_ratio = 0.2\n",
    "validation_ratio = 0.2\n",
    "total_size = len(X_with_bias)\n",
    "\n",
    "test_size = int(total_size * test_ratio)\n",
    "validation_size = int(total_size * validation_ratio)\n",
    "train_size = total_size - test_size - validation_size\n",
    "\n",
    "rnd_indices = np.random.permutation(total_size)\n",
    "\n",
    "X_train = X_with_bias[rnd_indices[:train_size]]\n",
    "y_train = y[rnd_indices[:train_size]]\n",
    "X_valid = X_with_bias[rnd_indices[train_size:-test_size]]\n",
    "y_valid = y[rnd_indices[train_size:-test_size]]\n",
    "X_test = X_with_bias[rnd_indices[-test_size:]]\n",
    "y_test = y[rnd_indices[-test_size:]]"
   ]
  },
  {
   "cell_type": "code",
   "execution_count": 3,
   "id": "54bee751",
   "metadata": {
    "ExecuteTime": {
     "end_time": "2022-05-31T07:12:22.778271Z",
     "start_time": "2022-05-31T07:12:22.774282Z"
    }
   },
   "outputs": [],
   "source": [
    "def to_one_hot(y):\n",
    "    n_classes = y.max() + 1\n",
    "    m = len(y)\n",
    "    Y_one_hot = np.zeros((m, n_classes))\n",
    "    Y_one_hot[np.arange(m), y] = 1\n",
    "    return Y_one_hot"
   ]
  },
  {
   "cell_type": "code",
   "execution_count": 4,
   "id": "afe4cfde",
   "metadata": {
    "ExecuteTime": {
     "end_time": "2022-05-31T07:13:01.583692Z",
     "start_time": "2022-05-31T07:13:01.579703Z"
    }
   },
   "outputs": [],
   "source": [
    "Y_train_one_hot = to_one_hot(y_train)\n",
    "Y_valid_one_hot = to_one_hot(y_valid)\n",
    "Y_test_one_hot = to_one_hot(y_test)"
   ]
  },
  {
   "cell_type": "code",
   "execution_count": 5,
   "id": "06cef2b7",
   "metadata": {
    "ExecuteTime": {
     "end_time": "2022-05-31T07:16:32.687481Z",
     "start_time": "2022-05-31T07:16:32.683484Z"
    }
   },
   "outputs": [],
   "source": [
    "def softmax(logits):\n",
    "    exps = np.exp(logits)\n",
    "    exp_sums = np.sum(exps, axis=1, keepdims=True)\n",
    "    return exps / exp_sums"
   ]
  },
  {
   "cell_type": "code",
   "execution_count": 8,
   "id": "0c678034",
   "metadata": {
    "ExecuteTime": {
     "end_time": "2022-05-31T07:20:06.009065Z",
     "start_time": "2022-05-31T07:20:06.004100Z"
    }
   },
   "outputs": [],
   "source": [
    "n_inputs = X_train.shape[1] \n",
    "n_outputs = len(np.unique(y_train))"
   ]
  },
  {
   "cell_type": "code",
   "execution_count": 15,
   "id": "20111e40",
   "metadata": {
    "ExecuteTime": {
     "end_time": "2022-05-31T07:45:11.607342Z",
     "start_time": "2022-05-31T07:45:11.506057Z"
    }
   },
   "outputs": [
    {
     "name": "stdout",
     "output_type": "stream",
     "text": [
      "0 3.3235491052911152\n",
      "500 0.6603039134340472\n",
      "1000 0.5848240055005666\n",
      "1500 0.534132424867459\n",
      "2000 0.4971250359223946\n",
      "2500 0.4684734986837643\n",
      "3000 0.4453329797444631\n",
      "3500 0.4260480784510373\n",
      "4000 0.4095873027019328\n",
      "4500 0.39527174810845456\n",
      "5000 0.38263431042255586\n"
     ]
    }
   ],
   "source": [
    "eta = 0.01\n",
    "n_iterations = 5001\n",
    "m = len(X_train)\n",
    "epsilon = 1e-7\n",
    "\n",
    "Theta = np.random.randn(n_inputs, n_outputs)\n",
    "\n",
    "for iteration in range(n_iterations):\n",
    "    logits = X_train.dot(Theta)\n",
    "    Y_proba = softmax(logits)\n",
    "    if iteration % 500 == 0:\n",
    "        loss = -np.mean(np.sum(Y_train_one_hot * np.log(Y_proba + epsilon), axis=1))\n",
    "        print(iteration, loss)\n",
    "    error = Y_proba - Y_train_one_hot\n",
    "    gradients = 1/m * X_train.T.dot(error)\n",
    "    Theta = Theta - eta * gradients"
   ]
  },
  {
   "cell_type": "code",
   "execution_count": 16,
   "id": "276dcbdc",
   "metadata": {
    "ExecuteTime": {
     "end_time": "2022-05-31T07:45:14.279137Z",
     "start_time": "2022-05-31T07:45:14.274151Z"
    }
   },
   "outputs": [
    {
     "data": {
      "text/plain": [
       "array([[ 3.82161423, -0.09823517, -2.38184689],\n",
       "       [-0.18513756,  0.82572728,  0.65889914],\n",
       "       [-1.2889241 ,  0.24603278,  2.23584559]])"
      ]
     },
     "execution_count": 16,
     "metadata": {},
     "output_type": "execute_result"
    }
   ],
   "source": [
    "Theta"
   ]
  },
  {
   "cell_type": "code",
   "execution_count": 17,
   "id": "ba24109b",
   "metadata": {
    "ExecuteTime": {
     "end_time": "2022-05-31T07:45:30.577006Z",
     "start_time": "2022-05-31T07:45:30.571022Z"
    }
   },
   "outputs": [
    {
     "data": {
      "text/plain": [
       "0.9666666666666667"
      ]
     },
     "execution_count": 17,
     "metadata": {},
     "output_type": "execute_result"
    }
   ],
   "source": [
    "logits = X_valid.dot(Theta)\n",
    "Y_proba = softmax(logits)\n",
    "y_predict = np.argmax(Y_proba, axis=1)\n",
    "\n",
    "accuracy_score = np.mean(y_predict == y_valid)\n",
    "accuracy_score"
   ]
  },
  {
   "cell_type": "code",
   "execution_count": 18,
   "id": "917b7e30",
   "metadata": {
    "ExecuteTime": {
     "end_time": "2022-05-31T07:45:53.107644Z",
     "start_time": "2022-05-31T07:45:52.890198Z"
    }
   },
   "outputs": [
    {
     "name": "stdout",
     "output_type": "stream",
     "text": [
      "0 3.248603418763468\n",
      "500 0.5236482529721027\n",
      "1000 0.5012026401848378\n",
      "1500 0.4938085566634075\n",
      "2000 0.4909411221337844\n",
      "2500 0.48974810711102384\n",
      "3000 0.4892330182039999\n",
      "3500 0.4890057757667381\n",
      "4000 0.48890418047747586\n",
      "4500 0.48885837256340314\n",
      "5000 0.4888376040861009\n"
     ]
    }
   ],
   "source": [
    "eta = 0.1\n",
    "n_iterations = 5001\n",
    "m = len(X_train)\n",
    "epsilon = 1e-7\n",
    "alpha = 0.1\n",
    "\n",
    "Theta = np.random.randn(n_inputs, n_outputs)\n",
    "\n",
    "for iteration in range(n_iterations):\n",
    "    logits = X_train.dot(Theta)\n",
    "    Y_proba = softmax(logits)\n",
    "    if iteration % 500 == 0:\n",
    "        xentropy_loss = -np.mean(np.sum(Y_train_one_hot * np.log(Y_proba + epsilon), axis=1))\n",
    "        l2_loss = 1/2 * np.sum(np.square(Theta[1:]))\n",
    "        loss = xentropy_loss + alpha * l2_loss\n",
    "        print(iteration, loss)\n",
    "    error = Y_proba - Y_train_one_hot\n",
    "    gradients = 1/m * X_train.T.dot(error) + np.r_[np.zeros([1, n_outputs]), alpha * Theta[1:]]\n",
    "    Theta = Theta - eta * gradients"
   ]
  },
  {
   "cell_type": "code",
   "execution_count": 19,
   "id": "73677c61",
   "metadata": {
    "ExecuteTime": {
     "end_time": "2022-05-31T07:46:02.271674Z",
     "start_time": "2022-05-31T07:46:02.266708Z"
    }
   },
   "outputs": [
    {
     "data": {
      "text/plain": [
       "1.0"
      ]
     },
     "execution_count": 19,
     "metadata": {},
     "output_type": "execute_result"
    }
   ],
   "source": [
    "logits = X_valid.dot(Theta)\n",
    "Y_proba = softmax(logits)\n",
    "y_predict = np.argmax(Y_proba, axis=1)\n",
    "\n",
    "accuracy_score = np.mean(y_predict == y_valid)\n",
    "accuracy_score"
   ]
  },
  {
   "cell_type": "code",
   "execution_count": 20,
   "id": "e5787300",
   "metadata": {
    "ExecuteTime": {
     "end_time": "2022-05-31T07:46:25.164540Z",
     "start_time": "2022-05-31T07:46:24.938147Z"
    }
   },
   "outputs": [
    {
     "name": "stdout",
     "output_type": "stream",
     "text": [
      "0 4.04775091268417\n",
      "500 0.5721331613175611\n",
      "1000 0.5431219306010312\n",
      "1500 0.5354510851879438\n",
      "2000 0.5331618209258674\n",
      "2500 0.5325888092626213\n",
      "2751 0.532545954854535\n",
      "2752 0.5325459557705009 early stopping!\n"
     ]
    }
   ],
   "source": [
    "eta = 0.1 \n",
    "n_iterations = 5001\n",
    "m = len(X_train)\n",
    "epsilon = 1e-7\n",
    "alpha = 0.1 \n",
    "best_loss = np.infty\n",
    "\n",
    "Theta = np.random.randn(n_inputs, n_outputs)\n",
    "\n",
    "for iteration in range(n_iterations):\n",
    "    logits = X_train.dot(Theta)\n",
    "    Y_proba = softmax(logits)\n",
    "    error = Y_proba - Y_train_one_hot\n",
    "    gradients = 1/m * X_train.T.dot(error) + np.r_[np.zeros([1, n_outputs]), alpha * Theta[1:]]\n",
    "    Theta = Theta - eta * gradients\n",
    "\n",
    "    logits = X_valid.dot(Theta)\n",
    "    Y_proba = softmax(logits)\n",
    "    xentropy_loss = -np.mean(np.sum(Y_valid_one_hot * np.log(Y_proba + epsilon), axis=1))\n",
    "    l2_loss = 1/2 * np.sum(np.square(Theta[1:]))\n",
    "    loss = xentropy_loss + alpha * l2_loss\n",
    "    if iteration % 500 == 0:\n",
    "        print(iteration, loss)\n",
    "    if loss < best_loss:\n",
    "        best_loss = loss\n",
    "    else:\n",
    "        print(iteration - 1, best_loss)\n",
    "        print(iteration, loss, \"early stopping!\")\n",
    "        break"
   ]
  },
  {
   "cell_type": "code",
   "execution_count": 21,
   "id": "a34442ac",
   "metadata": {
    "ExecuteTime": {
     "end_time": "2022-05-31T07:46:26.728765Z",
     "start_time": "2022-05-31T07:46:26.722801Z"
    }
   },
   "outputs": [
    {
     "data": {
      "text/plain": [
       "1.0"
      ]
     },
     "execution_count": 21,
     "metadata": {},
     "output_type": "execute_result"
    }
   ],
   "source": [
    "logits = X_valid.dot(Theta)\n",
    "Y_proba = softmax(logits)\n",
    "y_predict = np.argmax(Y_proba, axis=1)\n",
    "\n",
    "accuracy_score = np.mean(y_predict == y_valid)\n",
    "accuracy_score"
   ]
  },
  {
   "cell_type": "code",
   "execution_count": 26,
   "id": "0eb20fec",
   "metadata": {
    "ExecuteTime": {
     "end_time": "2022-05-31T07:55:22.298121Z",
     "start_time": "2022-05-31T07:55:22.114644Z"
    }
   },
   "outputs": [
    {
     "data": {
      "image/png": "[encoded data removed]",
      "text/plain": [
       "<Figure size 720x288 with 1 Axes>"
      ]
     },
     "metadata": {
      "needs_background": "light"
     },
     "output_type": "display_data"
    }
   ],
   "source": [
    "import matplotlib as mpl\n",
    "import matplotlib.pyplot as plt\n",
    "x0, x1 = np.meshgrid(\n",
    "        np.linspace(0, 8, 500).reshape(-1, 1),\n",
    "        np.linspace(0, 3.5, 200).reshape(-1, 1),\n",
    "    )\n",
    "X_new = np.c_[x0.ravel(), x1.ravel()]\n",
    "X_new_with_bias = np.c_[np.ones([len(X_new), 1]), X_new]\n",
    "\n",
    "logits = X_new_with_bias.dot(Theta)\n",
    "Y_proba = softmax(logits)\n",
    "y_predict = np.argmax(Y_proba, axis=1)\n",
    "\n",
    "zz1 = Y_proba[:, 1].reshape(x0.shape)\n",
    "zz = y_predict.reshape(x0.shape)\n",
    "\n",
    "plt.figure(figsize=(10, 4))\n",
    "plt.plot(X[y==2, 0], X[y==2, 1], \"g^\", label=\"Iris virginica\")\n",
    "plt.plot(X[y==1, 0], X[y==1, 1], \"bs\", label=\"Iris versicolor\")\n",
    "plt.plot(X[y==0, 0], X[y==0, 1], \"yo\", label=\"Iris setosa\")\n",
    "\n",
    "from matplotlib.colors import ListedColormap\n",
    "custom_cmap = ListedColormap(['#fafab0','#9898ff','#a0faa0'])\n",
    "\n",
    "plt.contourf(x0, x1, zz, cmap=custom_cmap)\n",
    "contour = plt.contour(x0, x1, zz1, cmap=plt.cm.brg)\n",
    "plt.xlabel(\"Petal length\", fontsize=14)\n",
    "plt.clabel(contour, inline=1, fontsize=12)\n",
    "plt.ylabel(\"Petal width\", fontsize=14)\n",
    "plt.legend(loc=\"upper left\", fontsize=14)\n",
    "plt.axis([0, 7, 0, 3.5])\n",
    "plt.show()"
   ]
  },
  {
   "cell_type": "code",
   "execution_count": 23,
   "id": "f78a12fe",
   "metadata": {
    "ExecuteTime": {
     "end_time": "2022-05-31T07:46:51.360159Z",
     "start_time": "2022-05-31T07:46:51.354181Z"
    }
   },
   "outputs": [
    {
     "data": {
      "text/plain": [
       "0.9333333333333333"
      ]
     },
     "execution_count": 23,
     "metadata": {},
     "output_type": "execute_result"
    }
   ],
   "source": [
    "logits = X_test.dot(Theta)\n",
    "Y_proba = softmax(logits)\n",
    "y_predict = np.argmax(Y_proba, axis=1)\n",
    "\n",
    "accuracy_score = np.mean(y_predict == y_test)\n",
    "accuracy_score"
   ]
  },
  {
   "cell_type": "code",
   "execution_count": null,
   "id": "78288d41",
   "metadata": {},
   "outputs": [],
   "source": []
  }
 ],
 "metadata": {
  "kernelspec": {
   "display_name": "Python 3 (ipykernel)",
   "language": "python",
   "name": "python3"
  },
  "language_info": {
   "codemirror_mode": {
    "name": "ipython",
    "version": 3
   },
   "file_extension": ".py",
   "mimetype": "text/x-python",
   "name": "python",
   "nbconvert_exporter": "python",
   "pygments_lexer": "ipython3",
   "version": "3.8.8"
  },
  "toc": {
   "base_numbering": 1,
   "nav_menu": {},
   "number_sections": true,
   "sideBar": true,
   "skip_h1_title": false,
   "title_cell": "Table of Contents",
   "title_sidebar": "Contents",
   "toc_cell": false,
   "toc_position": {},
   "toc_section_display": true,
   "toc_window_display": false
  },
  "varInspector": {
   "cols": {
    "lenName": 16,
    "lenType": 16,
    "lenVar": 40
   },
   "kernels_config": {
    "python": {
     "delete_cmd_postfix": "",
     "delete_cmd_prefix": "del ",
     "library": "var_list.py",
     "varRefreshCmd": "print(var_dic_list())"
    },
    "r": {
     "delete_cmd_postfix": ") ",
     "delete_cmd_prefix": "rm(",
     "library": "var_list.r",
     "varRefreshCmd": "cat(var_dic_list()) "
    }
   },
   "types_to_exclude": [
    "module",
    "function",
    "builtin_function_or_method",
    "instance",
    "_Feature"
   ],
   "window_display": false
  }
 },
 "nbformat": 4,
 "nbformat_minor": 5
}
