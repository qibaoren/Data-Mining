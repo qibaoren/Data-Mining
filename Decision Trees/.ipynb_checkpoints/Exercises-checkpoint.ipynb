{
 "cells": [
  {
   "cell_type": "markdown",
   "id": "55a979e0",
   "metadata": {},
   "source": [
    "# what is the approximate depth of a Decision Tree trained(without restrictions)on a training set with one million instances?"
   ]
  },
  {
   "cell_type": "markdown",
   "id": "cccd2e91",
   "metadata": {},
   "source": [
    "<font size=3>&ensp;&ensp;**The depth of a well-balanced binary tree containing m leaves is equal to log2(m),rounded up. A binary Decision Tree (one that makes only binary decisions)will end up more or less well balanced at the end of training,with one leaf per training instance if it is trained without restrictions.Thus, if the training set contains one million instances, the Decision Tree will have a depth of log2(10*(6))=20(actually a bit more since the tree will generally not be perfectly well balanced)**</font>"
   ]
  },
  {
   "cell_type": "markdown",
   "id": "28daef21",
   "metadata": {},
   "source": [
    "# Is a node's Gine impurity generally lower or greater than its parent's?Is it generally low/greater,or always lower/greater?"
   ]
  },
  {
   "cell_type": "markdown",
   "id": "fb0941a8",
   "metadata": {},
   "source": [
    "<font size=3>&ensp;&ensp;**A node's Gini impurity is generally lower than its parents'.This is due to the CART training algorithm's cost function,which splits each node in a way that minimizes the wieghted sum of its children's Gini impurities.However, it is possible for a node to have a higher Gini impurity than its parent, as long as this increase is more than compensated for by a decrease in the other child's impurity.**</font>"
   ]
  },
  {
   "cell_type": "markdown",
   "id": "104f4d18",
   "metadata": {},
   "source": [
    "# If a Decision Tree is overfitting the training set,is it a good idea to try decreasing max_depth?"
   ]
  },
  {
   "cell_type": "markdown",
   "id": "c4c4f80c",
   "metadata": {},
   "source": [
    "<font size=3>&ensp;&ensp;**If a decision tree is overfitting the training set, it may be a good idea to decrease max_depth, since this will constrain the model,regularizing it**</font>"
   ]
  },
  {
   "cell_type": "markdown",
   "id": "f34d8864",
   "metadata": {},
   "source": [
    "# If a Decision Tree is underfitting the training set,is it a good idea to try scaling the input features?"
   ]
  },
  {
   "cell_type": "markdown",
   "id": "4d9fae2b",
   "metadata": {},
   "source": [
    "<font size=3>&ensp;&ensp;**Decision Trees don't care whether or not the training data is scaled or centered.**</font>"
   ]
  },
  {
   "cell_type": "markdown",
   "id": "0360063d",
   "metadata": {},
   "source": [
    "# If it takes one hour to train a Decision Tree on a training set containing 1 million instances,roughly how much time will it take to train another Decision Tree on a training set containing 10 million instances?"
   ]
  },
  {
   "cell_type": "markdown",
   "id": "e424b7c1",
   "metadata": {},
   "source": [
    "<font size=3>&ensp;&ensp;**Roughly 11.7 hours**</font>"
   ]
  },
  {
   "cell_type": "markdown",
   "id": "2aea39a5",
   "metadata": {},
   "source": [
    "# If your taining set contains 100,000 instances,will setting presort=True speed up training?"
   ]
  },
  {
   "cell_type": "markdown",
   "id": "8a040452",
   "metadata": {},
   "source": [
    "<font size=3>&ensp;&ensp;**Presorting the training instances speeds up training only if the dataset is smaller than a few thousand instances.**</font>"
   ]
  },
  {
   "cell_type": "markdown",
   "id": "ce4f911f",
   "metadata": {},
   "source": [
    "# Exercies 7"
   ]
  },
  {
   "cell_type": "code",
   "execution_count": 1,
   "id": "0a3c808a",
   "metadata": {
    "ExecuteTime": {
     "end_time": "2022-06-04T10:14:42.198996Z",
     "start_time": "2022-06-04T10:14:36.129088Z"
    }
   },
   "outputs": [
    {
     "name": "stdout",
     "output_type": "stream",
     "text": [
      "Fitting 3 folds for each of 294 candidates, totalling 882 fits\n"
     ]
    },
    {
     "data": {
      "text/plain": [
       "GridSearchCV(cv=3, estimator=DecisionTreeClassifier(random_state=42),\n",
       "             param_grid={'max_leaf_nodes': [2, 3, 4, 5, 6, 7, 8, 9, 10, 11, 12,\n",
       "                                            13, 14, 15, 16, 17, 18, 19, 20, 21,\n",
       "                                            22, 23, 24, 25, 26, 27, 28, 29, 30,\n",
       "                                            31, ...],\n",
       "                         'min_samples_split': [2, 3, 4]},\n",
       "             verbose=1)"
      ]
     },
     "execution_count": 1,
     "metadata": {},
     "output_type": "execute_result"
    }
   ],
   "source": [
    "import numpy\n",
    "import sklearn\n",
    "from sklearn.datasets import make_moons\n",
    "from sklearn.model_selection import train_test_split\n",
    "from sklearn.model_selection import GridSearchCV\n",
    "from sklearn.tree import DecisionTreeClassifier\n",
    "\n",
    "X, y = make_moons(n_samples=10000, noise=0.4)\n",
    "X_train, X_test, y_train, y_test = train_test_split(X, y, test_size=0.2, random_state=42)\n",
    "\n",
    "params = {'max_leaf_nodes': list(range(2, 100)), 'min_samples_split': [2, 3, 4]}\n",
    "grid_search_cv = GridSearchCV(DecisionTreeClassifier(random_state=42), params, verbose=1, cv=3)\n",
    "\n",
    "grid_search_cv.fit(X_train, y_train)"
   ]
  },
  {
   "cell_type": "code",
   "execution_count": 2,
   "id": "a5b84f6c",
   "metadata": {
    "ExecuteTime": {
     "end_time": "2022-06-04T10:15:09.740337Z",
     "start_time": "2022-06-04T10:15:09.735351Z"
    }
   },
   "outputs": [
    {
     "data": {
      "text/plain": [
       "DecisionTreeClassifier(max_leaf_nodes=28, random_state=42)"
      ]
     },
     "execution_count": 2,
     "metadata": {},
     "output_type": "execute_result"
    }
   ],
   "source": [
    "grid_search_cv.best_estimator_"
   ]
  },
  {
   "cell_type": "code",
   "execution_count": 3,
   "id": "82674a81",
   "metadata": {
    "ExecuteTime": {
     "end_time": "2022-06-04T10:15:54.100973Z",
     "start_time": "2022-06-04T10:15:54.095976Z"
    }
   },
   "outputs": [
    {
     "data": {
      "text/plain": [
       "0.8663756209018508"
      ]
     },
     "execution_count": 3,
     "metadata": {},
     "output_type": "execute_result"
    }
   ],
   "source": [
    "grid_search_cv.best_score_"
   ]
  },
  {
   "cell_type": "code",
   "execution_count": 4,
   "id": "3069b4c9",
   "metadata": {
    "ExecuteTime": {
     "end_time": "2022-06-04T10:16:14.790528Z",
     "start_time": "2022-06-04T10:16:14.784544Z"
    }
   },
   "outputs": [
    {
     "data": {
      "text/plain": [
       "0.87"
      ]
     },
     "execution_count": 4,
     "metadata": {},
     "output_type": "execute_result"
    }
   ],
   "source": [
    "from sklearn.metrics import accuracy_score\n",
    "\n",
    "y_pred = grid_search_cv.predict(X_test)\n",
    "accuracy_score(y_test, y_pred)"
   ]
  },
  {
   "cell_type": "markdown",
   "id": "c11bafa2",
   "metadata": {},
   "source": [
    "# Exercise 8"
   ]
  },
  {
   "cell_type": "code",
   "execution_count": 5,
   "id": "5f9b1dd6",
   "metadata": {
    "ExecuteTime": {
     "end_time": "2022-06-04T10:16:49.405585Z",
     "start_time": "2022-06-04T10:16:49.255852Z"
    }
   },
   "outputs": [],
   "source": [
    "from sklearn.model_selection import ShuffleSplit\n",
    "\n",
    "n_trees = 1000\n",
    "n_instances = 100\n",
    "\n",
    "mini_sets = []\n",
    "\n",
    "rs = ShuffleSplit(n_splits=n_trees, test_size=len(X_train) - n_instances, random_state=42)\n",
    "for mini_train_index, mini_test_index in rs.split(X_train):\n",
    "    X_mini_train = X_train[mini_train_index]\n",
    "    y_mini_train = y_train[mini_train_index]\n",
    "    mini_sets.append((X_mini_train, y_mini_train))"
   ]
  },
  {
   "cell_type": "code",
   "execution_count": 12,
   "id": "eab19850",
   "metadata": {
    "ExecuteTime": {
     "end_time": "2022-06-04T12:09:21.992066Z",
     "start_time": "2022-06-04T12:09:21.122901Z"
    }
   },
   "outputs": [
    {
     "data": {
      "text/plain": [
       "0.7945225"
      ]
     },
     "execution_count": 12,
     "metadata": {},
     "output_type": "execute_result"
    }
   ],
   "source": [
    "from sklearn.base import clone\n",
    "\n",
    "forest = [clone(grid_search_cv.best_estimator_) for _ in range(n_trees)]\n",
    "\n",
    "accuracy_scores = []\n",
    "\n",
    "for tree, (X_mini_train, y_mini_train) in zip(forest, mini_sets):\n",
    "    tree.fit(X_mini_train, y_mini_train)\n",
    "    y_pred = tree.predict(X_test)\n",
    "    accuracy_scores.append(accuracy_score(y_test, y_pred))\n",
    "\n",
    "np.mean(accuracy_scores)"
   ]
  },
  {
   "cell_type": "code",
   "execution_count": 13,
   "id": "ab9bbd44",
   "metadata": {
    "ExecuteTime": {
     "end_time": "2022-06-04T12:09:25.816420Z",
     "start_time": "2022-06-04T12:09:25.649059Z"
    }
   },
   "outputs": [],
   "source": [
    "Y_pred = np.empty([n_trees, len(X_test)], dtype=np.uint8)\n",
    "\n",
    "for tree_index, tree in enumerate(forest):\n",
    "    Y_pred[tree_index] = tree.predict(X_test)"
   ]
  },
  {
   "cell_type": "code",
   "execution_count": 14,
   "id": "845501ef",
   "metadata": {
    "ExecuteTime": {
     "end_time": "2022-06-04T12:09:29.083717Z",
     "start_time": "2022-06-04T12:09:29.019883Z"
    }
   },
   "outputs": [],
   "source": [
    "from scipy.stats import mode\n",
    "\n",
    "y_pred_majority_votes, n_votes = mode(Y_pred, axis=0)"
   ]
  },
  {
   "cell_type": "code",
   "execution_count": 15,
   "id": "52e32d48",
   "metadata": {
    "ExecuteTime": {
     "end_time": "2022-06-04T12:09:32.299831Z",
     "start_time": "2022-06-04T12:09:32.294845Z"
    }
   },
   "outputs": [
    {
     "data": {
      "text/plain": [
       "0.872"
      ]
     },
     "execution_count": 15,
     "metadata": {},
     "output_type": "execute_result"
    }
   ],
   "source": [
    "accuracy_score(y_test, y_pred_majority_votes.reshape([-1]))"
   ]
  },
  {
   "cell_type": "code",
   "execution_count": null,
   "id": "8becb908",
   "metadata": {},
   "outputs": [],
   "source": []
  }
 ],
 "metadata": {
  "kernelspec": {
   "display_name": "Python 3 (ipykernel)",
   "language": "python",
   "name": "python3"
  },
  "language_info": {
   "codemirror_mode": {
    "name": "ipython",
    "version": 3
   },
   "file_extension": ".py",
   "mimetype": "text/x-python",
   "name": "python",
   "nbconvert_exporter": "python",
   "pygments_lexer": "ipython3",
   "version": "3.8.8"
  },
  "toc": {
   "base_numbering": 1,
   "nav_menu": {},
   "number_sections": true,
   "sideBar": true,
   "skip_h1_title": false,
   "title_cell": "Table of Contents",
   "title_sidebar": "Contents",
   "toc_cell": false,
   "toc_position": {},
   "toc_section_display": true,
   "toc_window_display": false
  },
  "varInspector": {
   "cols": {
    "lenName": 16,
    "lenType": 16,
    "lenVar": 40
   },
   "kernels_config": {
    "python": {
     "delete_cmd_postfix": "",
     "delete_cmd_prefix": "del ",
     "library": "var_list.py",
     "varRefreshCmd": "print(var_dic_list())"
    },
    "r": {
     "delete_cmd_postfix": ") ",
     "delete_cmd_prefix": "rm(",
     "library": "var_list.r",
     "varRefreshCmd": "cat(var_dic_list()) "
    }
   },
   "types_to_exclude": [
    "module",
    "function",
    "builtin_function_or_method",
    "instance",
    "_Feature"
   ],
   "window_display": false
  }
 },
 "nbformat": 4,
 "nbformat_minor": 5
}
