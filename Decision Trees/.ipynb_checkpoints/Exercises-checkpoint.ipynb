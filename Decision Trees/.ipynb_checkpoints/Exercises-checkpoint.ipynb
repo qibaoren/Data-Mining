{
 "cells": [
  {
   "cell_type": "markdown",
   "id": "55a979e0",
   "metadata": {},
   "source": [
    "# what is the approximate depth of a Decision Tree trained(without restrictions)on a training set with one million instances?"
   ]
  },
  {
   "cell_type": "markdown",
   "id": "28daef21",
   "metadata": {},
   "source": [
    "# Is a node's Gine impurity generally lower or greater than its parent's?Is it generally low/greater,or always lower/greater?"
   ]
  },
  {
   "cell_type": "markdown",
   "id": "104f4d18",
   "metadata": {},
   "source": [
    "# If a Decision Tree is overfitting the training set,is it a good idea to try decreasing max_depth?"
   ]
  },
  {
   "cell_type": "markdown",
   "id": "f34d8864",
   "metadata": {},
   "source": [
    "# If a Decision Tree is underfitting the training set,is it a good idea to try scaling the input features?"
   ]
  },
  {
   "cell_type": "markdown",
   "id": "0360063d",
   "metadata": {},
   "source": [
    "# If it takes one hour to train a Decision Tree on a training set containing 1 million instances,roughly how much time will it take to train another Decision Tree on a training set containing 10 million instances?"
   ]
  },
  {
   "cell_type": "markdown",
   "id": "2aea39a5",
   "metadata": {},
   "source": [
    "# If your taining set contains 100,000 instances,will setting presort=True speed up training?"
   ]
  },
  {
   "cell_type": "code",
   "execution_count": null,
   "id": "8e64cd2b",
   "metadata": {},
   "outputs": [],
   "source": []
  }
 ],
 "metadata": {
  "kernelspec": {
   "display_name": "Python 3 (ipykernel)",
   "language": "python",
   "name": "python3"
  },
  "language_info": {
   "codemirror_mode": {
    "name": "ipython",
    "version": 3
   },
   "file_extension": ".py",
   "mimetype": "text/x-python",
   "name": "python",
   "nbconvert_exporter": "python",
   "pygments_lexer": "ipython3",
   "version": "3.8.8"
  },
  "toc": {
   "base_numbering": 1,
   "nav_menu": {},
   "number_sections": true,
   "sideBar": true,
   "skip_h1_title": false,
   "title_cell": "Table of Contents",
   "title_sidebar": "Contents",
   "toc_cell": false,
   "toc_position": {},
   "toc_section_display": true,
   "toc_window_display": false
  },
  "varInspector": {
   "cols": {
    "lenName": 16,
    "lenType": 16,
    "lenVar": 40
   },
   "kernels_config": {
    "python": {
     "delete_cmd_postfix": "",
     "delete_cmd_prefix": "del ",
     "library": "var_list.py",
     "varRefreshCmd": "print(var_dic_list())"
    },
    "r": {
     "delete_cmd_postfix": ") ",
     "delete_cmd_prefix": "rm(",
     "library": "var_list.r",
     "varRefreshCmd": "cat(var_dic_list()) "
    }
   },
   "types_to_exclude": [
    "module",
    "function",
    "builtin_function_or_method",
    "instance",
    "_Feature"
   ],
   "window_display": false
  }
 },
 "nbformat": 4,
 "nbformat_minor": 5
}
