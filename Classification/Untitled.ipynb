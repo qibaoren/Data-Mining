{
 "cells": [
  {
   "cell_type": "code",
   "execution_count": 19,
   "id": "fda58637",
   "metadata": {
    "ExecuteTime": {
     "end_time": "2022-05-09T08:59:17.578220Z",
     "start_time": "2022-05-09T08:57:43.616348Z"
    }
   },
   "outputs": [
    {
     "data": {
      "text/plain": [
       "dict_keys(['data', 'target', 'frame', 'categories', 'feature_names', 'target_names', 'DESCR', 'details', 'url'])"
      ]
     },
     "execution_count": 19,
     "metadata": {},
     "output_type": "execute_result"
    }
   ],
   "source": [
    "import pandas as pd\n",
    "import numpy as np\n",
    "from sklearn.datasets import fetch_openml\n",
    "import matplotlib as mpl\n",
    "import matplotlib.pyplot as plt\n",
    "mnist = fetch_openml(\"mnist_784\", version=1)\n",
    "mnist.keys()"
   ]
  },
  {
   "cell_type": "code",
   "execution_count": 25,
   "id": "9a5c90a0",
   "metadata": {
    "ExecuteTime": {
     "end_time": "2022-05-09T11:12:20.927318Z",
     "start_time": "2022-05-09T11:12:20.846500Z"
    }
   },
   "outputs": [
    {
     "data": {
      "image/png": "[encoded data removed]",
      "text/plain": [
       "<Figure size 432x288 with 1 Axes>"
      ]
     },
     "metadata": {
      "needs_background": "light"
     },
     "output_type": "display_data"
    }
   ],
   "source": [
    "X, y = mnist[\"data\"], mnist[\"target\"]\n",
    "some_digit = X.iloc[0].values\n",
    "some_digit_image = some_digit.reshape(28, 28)\n",
    "plt.imshow(some_digit_image, cmap=\"binary\")\n",
    "plt.show()\n",
    "y = y.astype(np.uint8)"
   ]
  },
  {
   "cell_type": "code",
   "execution_count": 26,
   "id": "586a099d",
   "metadata": {
    "ExecuteTime": {
     "end_time": "2022-05-09T11:13:18.299170Z",
     "start_time": "2022-05-09T11:13:18.295205Z"
    }
   },
   "outputs": [],
   "source": [
    "X_train, X_test, y_train, y_test = X[:60000], X[60000:], y[:60000], y[60000:]"
   ]
  },
  {
   "cell_type": "code",
   "execution_count": 28,
   "id": "5651ffc4",
   "metadata": {
    "ExecuteTime": {
     "end_time": "2022-05-09T11:16:32.170476Z",
     "start_time": "2022-05-09T11:16:32.166490Z"
    }
   },
   "outputs": [],
   "source": [
    "y_train_5 = (y_train == 5)\n",
    "y_test_5 = (y_test == 5)"
   ]
  },
  {
   "cell_type": "code",
   "execution_count": 45,
   "id": "f2ddd6d7",
   "metadata": {
    "ExecuteTime": {
     "end_time": "2022-05-09T15:40:48.108518Z",
     "start_time": "2022-05-09T15:40:12.440875Z"
    }
   },
   "outputs": [
    {
     "name": "stdout",
     "output_type": "stream",
     "text": [
      "result_sgd_clf: [0.95035 0.96035 0.9604 ]\n",
      "result_never_5_clf: [0.91125 0.90855 0.90915]\n"
     ]
    }
   ],
   "source": [
    "from sklearn.linear_model import SGDClassifier\n",
    "from sklearn.model_selection import cross_val_score\n",
    "from sklearn.base import BaseEstimator\n",
    "\n",
    "sgd_clf = SGDClassifier(random_state=42)\n",
    "sgd_clf.fit(X_train, y_train_5)\n",
    "result_sgd_clf = cross_val_score(sgd_clf, X_train, y_train_5, cv=3, scoring=\"accuracy\")\n",
    "print(\"result_sgd_clf: %s\" % result_sgd_clf)\n",
    "class Never5Classifier(BaseEstimator):\n",
    "    def fit(self, X, y=None):\n",
    "        return self\n",
    "    def predict(self, X):\n",
    "        return np.zeros((len(X), 1), dtype=bool)\n",
    "\n",
    "never_5_clf = Never5Classifier()\n",
    "result_never_5_clf = cross_val_score(never_5_clf, X_train, y_train_5, cv=3, scoring=\"accuracy\")\n",
    "print(\"result_never_5_clf: %s\" % result_never_5_clf)"
   ]
  },
  {
   "cell_type": "code",
   "execution_count": 40,
   "id": "a3563eb8",
   "metadata": {
    "ExecuteTime": {
     "end_time": "2022-05-09T15:28:27.242394Z",
     "start_time": "2022-05-09T15:28:06.792107Z"
    }
   },
   "outputs": [
    {
     "data": {
      "text/plain": [
       "array([[53892,   687],\n",
       "       [ 1891,  3530]], dtype=int64)"
      ]
     },
     "execution_count": 40,
     "metadata": {},
     "output_type": "execute_result"
    }
   ],
   "source": [
    "from sklearn.model_selection import cross_val_predict\n",
    "from sklearn.metrics import confusion_matrix\n",
    "\n",
    "y_train_pred = cross_val_predict(sgd_clf, X_train, y_train_5, cv=3)\n",
    "result_confusion_matrix = confusion_matrix(y_train_5, y_train_pred)\n",
    "result_confusion_matrix"
   ]
  },
  {
   "cell_type": "code",
   "execution_count": 43,
   "id": "09753dee",
   "metadata": {
    "ExecuteTime": {
     "end_time": "2022-05-09T15:33:32.822205Z",
     "start_time": "2022-05-09T15:33:32.784276Z"
    }
   },
   "outputs": [
    {
     "name": "stdout",
     "output_type": "stream",
     "text": [
      "precision = 0.8370879772350012\n",
      "recall = 0.6511713705958311\n",
      "f1 = 0.7325171197343846\n"
     ]
    }
   ],
   "source": [
    "from sklearn.metrics import precision_score, recall_score, f1_score\n",
    "\n",
    "precision = precision_score(y_train_5, y_train_pred)\n",
    "recall = recall_score(y_train_5, y_train_pred)\n",
    "f1 = f1_score(y_train_5, y_train_pred)\n",
    "print(\"precision = %s\" % precision)\n",
    "print(\"recall = %s\" % recall)\n",
    "print(\"f1 = %s\" % f1)"
   ]
  },
  {
   "cell_type": "code",
   "execution_count": 46,
   "id": "70a0ba0a",
   "metadata": {
    "ExecuteTime": {
     "end_time": "2022-05-09T15:40:54.518928Z",
     "start_time": "2022-05-09T15:40:54.512944Z"
    }
   },
   "outputs": [
    {
     "name": "stdout",
     "output_type": "stream",
     "text": [
      "y_scores = [2164.22030239]\n",
      "y_some_digit_pred = [ True]\n",
      "y_some_digit_pred = [False]\n"
     ]
    },
    {
     "name": "stderr",
     "output_type": "stream",
     "text": [
      "D:\\anaconda3\\lib\\site-packages\\sklearn\\base.py:450: UserWarning: X does not have valid feature names, but SGDClassifier was fitted with feature names\n",
      "  warnings.warn(\n"
     ]
    }
   ],
   "source": [
    "y_scores = sgd_clf.decision_function([some_digit])\n",
    "print(\"y_scores = %s\" % y_scores)\n",
    "threshold = 0\n",
    "y_some_digit_pred = (y_scores > threshold)\n",
    "print(\"y_some_digit_pred = %s\" % y_some_digit_pred)\n",
    "threshold = 8000\n",
    "y_some_digit_pred = (y_scores > threshold)\n",
    "print(\"y_some_digit_pred = %s\" % y_some_digit_pred)"
   ]
  },
  {
   "cell_type": "code",
   "execution_count": null,
   "id": "ee1582ad",
   "metadata": {},
   "outputs": [],
   "source": [
    "from sklearn.metrics import precision_recall_curve\n",
    "\n",
    "y_scores = cross_val_predict(sgd_clf, X_train, y_train_5, cv=3, method=\"decision_function\")\n",
    "precisions, recalls, thresholds = precision_recall_curve(y_train_5, y_scores)\n",
    "\n",
    "def plot_precision_recall_vs_threshold(precisions, recalls,thresholds):\n",
    "    plt.plot(threshold, precisions[:-1], \"b--\", label=\"Precision\")"
   ]
  }
 ],
 "metadata": {
  "kernelspec": {
   "display_name": "Python 3 (ipykernel)",
   "language": "python",
   "name": "python3"
  },
  "language_info": {
   "codemirror_mode": {
    "name": "ipython",
    "version": 3
   },
   "file_extension": ".py",
   "mimetype": "text/x-python",
   "name": "python",
   "nbconvert_exporter": "python",
   "pygments_lexer": "ipython3",
   "version": "3.8.8"
  },
  "toc": {
   "base_numbering": 1,
   "nav_menu": {},
   "number_sections": true,
   "sideBar": true,
   "skip_h1_title": false,
   "title_cell": "Table of Contents",
   "title_sidebar": "Contents",
   "toc_cell": false,
   "toc_position": {},
   "toc_section_display": true,
   "toc_window_display": false
  },
  "varInspector": {
   "cols": {
    "lenName": 16,
    "lenType": 16,
    "lenVar": 40
   },
   "kernels_config": {
    "python": {
     "delete_cmd_postfix": "",
     "delete_cmd_prefix": "del ",
     "library": "var_list.py",
     "varRefreshCmd": "print(var_dic_list())"
    },
    "r": {
     "delete_cmd_postfix": ") ",
     "delete_cmd_prefix": "rm(",
     "library": "var_list.r",
     "varRefreshCmd": "cat(var_dic_list()) "
    }
   },
   "types_to_exclude": [
    "module",
    "function",
    "builtin_function_or_method",
    "instance",
    "_Feature"
   ],
   "window_display": false
  }
 },
 "nbformat": 4,
 "nbformat_minor": 5
}
